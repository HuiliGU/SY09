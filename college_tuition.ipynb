{
 "cells": [
  {
   "cell_type": "code",
   "execution_count": 2,
   "id": "b4b88474-3c25-4017-b253-9c78661ac380",
   "metadata": {},
   "outputs": [],
   "source": [
    "import numpy as np\n",
    "import pandas as pd\n",
    "import matplotlib.pyplot as plt\n",
    "import seaborn as sn"
   ]
  },
  {
   "cell_type": "code",
   "execution_count": 3,
   "id": "617fe7f5-0e5d-4870-9349-7fa14ad5e6e4",
   "metadata": {},
   "outputs": [],
   "source": [
    "tuition_cost =pd.read_csv('https://raw.githubusercontent.com/rfordatascience/tidytuesday/master/data/2020/2020-03-10/tuition_cost.csv')\n",
    "\n",
    "tuition_income =pd.read_csv('https://raw.githubusercontent.com/rfordatascience/tidytuesday/master/data/2020/2020-03-10/tuition_income.csv') \n",
    "\n",
    "salary_potential =pd.read_csv('https://raw.githubusercontent.com/rfordatascience/tidytuesday/master/data/2020/2020-03-10/salary_potential.csv')\n",
    "\n",
    "historical_tuition =pd.read_csv('https://raw.githubusercontent.com/rfordatascience/tidytuesday/master/data/2020/2020-03-10/historical_tuition.csv')\n",
    "\n",
    "diversity_school =pd.read_csv('https://raw.githubusercontent.com/rfordatascience/tidytuesday/master/data/2020/2020-03-10/diversity_school.csv')\n"
   ]
  },
  {
   "cell_type": "code",
   "execution_count": 4,
   "id": "72e4677a-1a51-4da1-9a99-dbf19e579e5a",
   "metadata": {},
   "outputs": [
    {
     "data": {
      "text/html": [
       "<div>\n",
       "<style scoped>\n",
       "    .dataframe tbody tr th:only-of-type {\n",
       "        vertical-align: middle;\n",
       "    }\n",
       "\n",
       "    .dataframe tbody tr th {\n",
       "        vertical-align: top;\n",
       "    }\n",
       "\n",
       "    .dataframe thead th {\n",
       "        text-align: right;\n",
       "    }\n",
       "</style>\n",
       "<table border=\"1\" class=\"dataframe\">\n",
       "  <thead>\n",
       "    <tr style=\"text-align: right;\">\n",
       "      <th></th>\n",
       "      <th>name</th>\n",
       "      <th>state</th>\n",
       "      <th>state_code</th>\n",
       "      <th>type</th>\n",
       "      <th>degree_length</th>\n",
       "      <th>room_and_board</th>\n",
       "      <th>in_state_tuition</th>\n",
       "      <th>in_state_total</th>\n",
       "      <th>out_of_state_tuition</th>\n",
       "      <th>out_of_state_total</th>\n",
       "    </tr>\n",
       "  </thead>\n",
       "  <tbody>\n",
       "    <tr>\n",
       "      <th>0</th>\n",
       "      <td>Aaniiih Nakoda College</td>\n",
       "      <td>Montana</td>\n",
       "      <td>MT</td>\n",
       "      <td>Public</td>\n",
       "      <td>2 Year</td>\n",
       "      <td>NaN</td>\n",
       "      <td>2380</td>\n",
       "      <td>2380</td>\n",
       "      <td>2380</td>\n",
       "      <td>2380</td>\n",
       "    </tr>\n",
       "    <tr>\n",
       "      <th>1</th>\n",
       "      <td>Abilene Christian University</td>\n",
       "      <td>Texas</td>\n",
       "      <td>TX</td>\n",
       "      <td>Private</td>\n",
       "      <td>4 Year</td>\n",
       "      <td>10350.0</td>\n",
       "      <td>34850</td>\n",
       "      <td>45200</td>\n",
       "      <td>34850</td>\n",
       "      <td>45200</td>\n",
       "    </tr>\n",
       "    <tr>\n",
       "      <th>2</th>\n",
       "      <td>Abraham Baldwin Agricultural College</td>\n",
       "      <td>Georgia</td>\n",
       "      <td>GA</td>\n",
       "      <td>Public</td>\n",
       "      <td>2 Year</td>\n",
       "      <td>8474.0</td>\n",
       "      <td>4128</td>\n",
       "      <td>12602</td>\n",
       "      <td>12550</td>\n",
       "      <td>21024</td>\n",
       "    </tr>\n",
       "    <tr>\n",
       "      <th>3</th>\n",
       "      <td>Academy College</td>\n",
       "      <td>Minnesota</td>\n",
       "      <td>MN</td>\n",
       "      <td>For Profit</td>\n",
       "      <td>2 Year</td>\n",
       "      <td>NaN</td>\n",
       "      <td>17661</td>\n",
       "      <td>17661</td>\n",
       "      <td>17661</td>\n",
       "      <td>17661</td>\n",
       "    </tr>\n",
       "    <tr>\n",
       "      <th>4</th>\n",
       "      <td>Academy of Art University</td>\n",
       "      <td>California</td>\n",
       "      <td>CA</td>\n",
       "      <td>For Profit</td>\n",
       "      <td>4 Year</td>\n",
       "      <td>16648.0</td>\n",
       "      <td>27810</td>\n",
       "      <td>44458</td>\n",
       "      <td>27810</td>\n",
       "      <td>44458</td>\n",
       "    </tr>\n",
       "    <tr>\n",
       "      <th>...</th>\n",
       "      <td>...</td>\n",
       "      <td>...</td>\n",
       "      <td>...</td>\n",
       "      <td>...</td>\n",
       "      <td>...</td>\n",
       "      <td>...</td>\n",
       "      <td>...</td>\n",
       "      <td>...</td>\n",
       "      <td>...</td>\n",
       "      <td>...</td>\n",
       "    </tr>\n",
       "    <tr>\n",
       "      <th>2968</th>\n",
       "      <td>York Technical College</td>\n",
       "      <td>South Carolina</td>\n",
       "      <td>SC</td>\n",
       "      <td>Public</td>\n",
       "      <td>2 Year</td>\n",
       "      <td>NaN</td>\n",
       "      <td>5740</td>\n",
       "      <td>5740</td>\n",
       "      <td>12190</td>\n",
       "      <td>12190</td>\n",
       "    </tr>\n",
       "    <tr>\n",
       "      <th>2969</th>\n",
       "      <td>Young Harris College</td>\n",
       "      <td>Georgia</td>\n",
       "      <td>GA</td>\n",
       "      <td>Private</td>\n",
       "      <td>4 Year</td>\n",
       "      <td>12372.0</td>\n",
       "      <td>29117</td>\n",
       "      <td>41489</td>\n",
       "      <td>29117</td>\n",
       "      <td>41489</td>\n",
       "    </tr>\n",
       "    <tr>\n",
       "      <th>2970</th>\n",
       "      <td>Youngstown State University</td>\n",
       "      <td>Ohio</td>\n",
       "      <td>OH</td>\n",
       "      <td>Public</td>\n",
       "      <td>4 Year</td>\n",
       "      <td>9400.0</td>\n",
       "      <td>8950</td>\n",
       "      <td>18350</td>\n",
       "      <td>14950</td>\n",
       "      <td>24350</td>\n",
       "    </tr>\n",
       "    <tr>\n",
       "      <th>2971</th>\n",
       "      <td>Yuba College</td>\n",
       "      <td>California</td>\n",
       "      <td>CA</td>\n",
       "      <td>Public</td>\n",
       "      <td>2 Year</td>\n",
       "      <td>NaN</td>\n",
       "      <td>1400</td>\n",
       "      <td>1400</td>\n",
       "      <td>8420</td>\n",
       "      <td>8420</td>\n",
       "    </tr>\n",
       "    <tr>\n",
       "      <th>2972</th>\n",
       "      <td>Zane State College</td>\n",
       "      <td>Ohio</td>\n",
       "      <td>OH</td>\n",
       "      <td>Public</td>\n",
       "      <td>2 Year</td>\n",
       "      <td>NaN</td>\n",
       "      <td>5070</td>\n",
       "      <td>5070</td>\n",
       "      <td>9930</td>\n",
       "      <td>9930</td>\n",
       "    </tr>\n",
       "  </tbody>\n",
       "</table>\n",
       "<p>2973 rows × 10 columns</p>\n",
       "</div>"
      ],
      "text/plain": [
       "                                      name           state state_code  \\\n",
       "0                   Aaniiih Nakoda College         Montana         MT   \n",
       "1             Abilene Christian University           Texas         TX   \n",
       "2     Abraham Baldwin Agricultural College         Georgia         GA   \n",
       "3                          Academy College       Minnesota         MN   \n",
       "4                Academy of Art University      California         CA   \n",
       "...                                    ...             ...        ...   \n",
       "2968                York Technical College  South Carolina         SC   \n",
       "2969                  Young Harris College         Georgia         GA   \n",
       "2970           Youngstown State University            Ohio         OH   \n",
       "2971                          Yuba College      California         CA   \n",
       "2972                    Zane State College            Ohio         OH   \n",
       "\n",
       "            type degree_length  room_and_board  in_state_tuition  \\\n",
       "0         Public        2 Year             NaN              2380   \n",
       "1        Private        4 Year         10350.0             34850   \n",
       "2         Public        2 Year          8474.0              4128   \n",
       "3     For Profit        2 Year             NaN             17661   \n",
       "4     For Profit        4 Year         16648.0             27810   \n",
       "...          ...           ...             ...               ...   \n",
       "2968      Public        2 Year             NaN              5740   \n",
       "2969     Private        4 Year         12372.0             29117   \n",
       "2970      Public        4 Year          9400.0              8950   \n",
       "2971      Public        2 Year             NaN              1400   \n",
       "2972      Public        2 Year             NaN              5070   \n",
       "\n",
       "      in_state_total  out_of_state_tuition  out_of_state_total  \n",
       "0               2380                  2380                2380  \n",
       "1              45200                 34850               45200  \n",
       "2              12602                 12550               21024  \n",
       "3              17661                 17661               17661  \n",
       "4              44458                 27810               44458  \n",
       "...              ...                   ...                 ...  \n",
       "2968            5740                 12190               12190  \n",
       "2969           41489                 29117               41489  \n",
       "2970           18350                 14950               24350  \n",
       "2971            1400                  8420                8420  \n",
       "2972            5070                  9930                9930  \n",
       "\n",
       "[2973 rows x 10 columns]"
      ]
     },
     "execution_count": 4,
     "metadata": {},
     "output_type": "execute_result"
    }
   ],
   "source": [
    "tuition_cost"
   ]
  },
  {
   "cell_type": "code",
   "execution_count": 5,
   "id": "a9d1e0e1-e133-4d7e-a56b-02c7f74165a4",
   "metadata": {},
   "outputs": [
    {
     "name": "stdout",
     "output_type": "stream",
     "text": [
      "<class 'pandas.core.frame.DataFrame'>\n",
      "RangeIndex: 2973 entries, 0 to 2972\n",
      "Data columns (total 10 columns):\n",
      " #   Column                Non-Null Count  Dtype  \n",
      "---  ------                --------------  -----  \n",
      " 0   name                  2973 non-null   object \n",
      " 1   state                 2921 non-null   object \n",
      " 2   state_code            2973 non-null   object \n",
      " 3   type                  2973 non-null   object \n",
      " 4   degree_length         2973 non-null   object \n",
      " 5   room_and_board        1879 non-null   float64\n",
      " 6   in_state_tuition      2973 non-null   int64  \n",
      " 7   in_state_total        2973 non-null   int64  \n",
      " 8   out_of_state_tuition  2973 non-null   int64  \n",
      " 9   out_of_state_total    2973 non-null   int64  \n",
      "dtypes: float64(1), int64(4), object(5)\n",
      "memory usage: 174.3+ KB\n"
     ]
    }
   ],
   "source": [
    "tuition_cost.info()"
   ]
  },
  {
   "cell_type": "code",
   "execution_count": 6,
   "id": "0fe38417-1009-4740-9755-0e417688a801",
   "metadata": {},
   "outputs": [
    {
     "data": {
      "text/plain": [
       "Public        1584\n",
       "Private       1281\n",
       "For Profit     107\n",
       "Other            1\n",
       "Name: type, dtype: int64"
      ]
     },
     "execution_count": 6,
     "metadata": {},
     "output_type": "execute_result"
    }
   ],
   "source": [
    "tuition_cost.type.value_counts()"
   ]
  },
  {
   "cell_type": "code",
   "execution_count": 7,
   "id": "452d7106-a2bb-4d1c-ab29-7ec9f34022fc",
   "metadata": {},
   "outputs": [
    {
     "data": {
      "text/plain": [
       "4 Year    1852\n",
       "2 Year    1120\n",
       "Other        1\n",
       "Name: degree_length, dtype: int64"
      ]
     },
     "execution_count": 7,
     "metadata": {},
     "output_type": "execute_result"
    }
   ],
   "source": [
    "tuition_cost.degree_length.value_counts()"
   ]
  },
  {
   "cell_type": "code",
   "execution_count": 8,
   "id": "e89e7356-e88b-4334-b7a5-8c4516f1d6e6",
   "metadata": {},
   "outputs": [
    {
     "data": {
      "text/plain": [
       "10200.0    8\n",
       "6000.0     8\n",
       "7700.0     7\n",
       "9900.0     7\n",
       "7400.0     7\n",
       "          ..\n",
       "14660.0    1\n",
       "11166.0    1\n",
       "8026.0     1\n",
       "8830.0     1\n",
       "6172.0     1\n",
       "Name: room_and_board, Length: 1428, dtype: int64"
      ]
     },
     "execution_count": 8,
     "metadata": {},
     "output_type": "execute_result"
    }
   ],
   "source": [
    "tuition_cost.room_and_board.value_counts()"
   ]
  },
  {
   "cell_type": "markdown",
   "id": "9750c79c-66cc-4fe4-b35c-58ccf96ab42e",
   "metadata": {},
   "source": [
    "Les questions à répondre:\n",
    "1. "
   ]
  },
  {
   "cell_type": "code",
   "execution_count": null,
   "id": "0ba40902-32ed-416d-a309-fc11f0a29020",
   "metadata": {},
   "outputs": [],
   "source": []
  }
 ],
 "metadata": {
  "kernelspec": {
   "display_name": "Python 3",
   "language": "python",
   "name": "python3"
  },
  "language_info": {
   "codemirror_mode": {
    "name": "ipython",
    "version": 3
   },
   "file_extension": ".py",
   "mimetype": "text/x-python",
   "name": "python",
   "nbconvert_exporter": "python",
   "pygments_lexer": "ipython3",
   "version": "3.7.4"
  }
 },
 "nbformat": 4,
 "nbformat_minor": 5
}
